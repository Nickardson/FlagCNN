{
  "nbformat": 4,
  "nbformat_minor": 0,
  "metadata": {
    "colab": {
      "name": "FlagCNN.ipynb",
      "provenance": [],
      "collapsed_sections": [],
      "toc_visible": true,
      "include_colab_link": true
    },
    "kernelspec": {
      "name": "python3",
      "display_name": "Python 3"
    },
    "accelerator": "GPU"
  },
  "cells": [
    {
      "cell_type": "markdown",
      "metadata": {
        "id": "view-in-github",
        "colab_type": "text"
      },
      "source": [
        "<a href=\"https://colab.research.google.com/github/TivsLThree/FlagCNN/blob/master/CNN/FlagCNN.ipynb\" target=\"_parent\"><img src=\"https://colab.research.google.com/assets/colab-badge.svg\" alt=\"Open In Colab\"/></a>"
      ]
    },
    {
      "cell_type": "code",
      "metadata": {
        "id": "e0GTykLbXkof",
        "colab_type": "code",
        "colab": {}
      },
      "source": [
        "from skimage import io\n",
        "import numpy as np\n",
        "import matplotlib.pyplot as plt\n",
        "from keras.utils import np_utils as nu\n",
        "import cv2\n",
        "flag_names = [\"australia\",\"canada\",\"china\",\"cuba\",\"japan\",\"malaysia\",\"monaco\",\"peru\",\"poland\",\"singapore\",\"usa\",\"vietnam\"];\n",
        "flag_dict = {k:v for (v,k) in enumerate(flag_names)}\n",
        "images = []\n",
        "labels = []\n",
        "for f in flag_names:\n",
        "  i = 1;\n",
        "  while i > 0:\n",
        "    try:\n",
        "        im = io.imread(\"https://github.com/TivsLThree/FlagCNN/blob/master/Images/\" + f +\"_\" + str(i) + \".png?raw=true\");\n",
        "        im = im[:,:,:3] # get rid of transparency. \n",
        "     #   res = cv2.resize(im, dsize=(23 * 40, 13 * 40), interpolation=cv2.INTER_CUBIC)\n",
        "        #im = im.reshape((1,) + im.shape)\n",
        "        labels.append(flag_dict[f])\n",
        "        images.append(im)\n",
        "    except:\n",
        "        i = -999;\n",
        "    i += 1\n",
        "len(images)\n",
        "labels = nu.to_categorical(labels)\n",
        "\n",
        "\n"
      ],
      "execution_count": 0,
      "outputs": []
    },
    {
      "cell_type": "code",
      "metadata": {
        "id": "oWv6_NoUey8I",
        "colab_type": "code",
        "outputId": "f1c6febc-4aa7-45bf-d993-8fd51a7b07c8",
        "colab": {
          "base_uri": "https://localhost:8080/",
          "height": 255
        }
      },
      "source": [
        "num = 6;\n",
        "plt.figure()\n",
        "f, ax = plt.subplots(num-1, num)\n",
        "im = images.copy();\n",
        "np.random.shuffle(im)\n",
        "\n",
        "for i in range(num-1):\n",
        "  for j in range(num):\n",
        "    ax[i][j].axis('off')\n",
        "    ax[i][j].imshow(im[i*num + j])\n",
        "    #plt.show()"
      ],
      "execution_count": 16,
      "outputs": [
        {
          "output_type": "display_data",
          "data": {
            "text/plain": [
              "<Figure size 432x288 with 0 Axes>"
            ]
          },
          "metadata": {
            "tags": []
          }
        },
        {
          "output_type": "display_data",
          "data": {
            "image/png": "[encoded data removed]",
            "text/plain": [
              "<Figure size 432x288 with 30 Axes>"
            ]
          },
          "metadata": {
            "tags": [],
            "needs_background": "light"
          }
        }
      ]
    },
    {
      "cell_type": "code",
      "metadata": {
        "id": "Usnb_Ar6g-Pc",
        "colab_type": "code",
        "outputId": "34d6410d-993d-4e24-f6b8-526ef5fd1a0e",
        "colab": {
          "base_uri": "https://localhost:8080/",
          "height": 34
        }
      },
      "source": [
        "from keras.preprocessing.image import ImageDataGenerator\n",
        "from keras import optimizers\n",
        "import cv2\n",
        "from PIL import Image\n",
        "import tensorflow as tf\n",
        "\n",
        "\n",
        "def recolor(image, r =0.07):\n",
        "  return tf.image.adjust_hue(image=image, delta=r)\n",
        "plt.figure()\n",
        "d = ImageDataGenerator(preprocessing_function=recolor, rescale= 1./255,rotation_range=6, width_shift_range= 4, height_shift_range= 4, zoom_range= 0.3, brightness_range=[0.5, 1.5], channel_shift_range=0.5)\n",
        "#it = td.flow(X, Y)\n",
        "train_gen = d.flow(x=np.array(images), y=np.array(labels), batch_size=len(images));\n",
        "\n",
        "validation_datagen = ImageDataGenerator(rescale = 1./255);\n",
        "# DO NOT DO THIS. I realized I used my train data set as my validation data set at the same time. This is bad. Do not cross contaminate. \n",
        "#thooough, the train dataset is all augmented\n",
        "valid_gen = validation_datagen.flow(x = np.array(images), y = np.array(labels))"
      ],
      "execution_count": 17,
      "outputs": [
        {
          "output_type": "display_data",
          "data": {
            "text/plain": [
              "<Figure size 432x288 with 0 Axes>"
            ]
          },
          "metadata": {
            "tags": []
          }
        }
      ]
    },
    {
      "cell_type": "markdown",
      "metadata": {
        "id": "dZb9jyx9np4p",
        "colab_type": "text"
      },
      "source": [
        "### Augmented Images"
      ]
    },
    {
      "cell_type": "code",
      "metadata": {
        "id": "Zu0o1mzvnpmi",
        "colab_type": "code",
        "colab": {}
      },
      "source": [
        ""
      ],
      "execution_count": 0,
      "outputs": []
    },
    {
      "cell_type": "code",
      "metadata": {
        "id": "8fKSEw7M7_vC",
        "colab_type": "code",
        "colab": {}
      },
      "source": [
        "import keras.layers as layers\n",
        "import keras\n",
        "cnn = keras.Sequential();\n",
        "\n",
        "cnn.add(layers.Conv2D(filters = 32, kernel_size=(3,3),strides = (2,2), input_shape=images[0].shape, padding = 'same'))\n",
        "cnn.add(layers.Activation('relu'))\n",
        "cnn.add(layers.MaxPool2D(pool_size=(2,2), strides = 2))\n",
        "\n",
        "cnn.add(layers.Conv2D(filters = 64, kernel_size=(2,2), strides = (1,1,), padding = 'valid'));\n",
        "cnn.add(layers.Activation('relu'))\n",
        "#cnn.add(layers.MaxPool2D(pool_size=(2,2), strides = 2))\n",
        "\n",
        "cnn.add(layers.Flatten());\n",
        "cnn.add(layers.Dense(64));\n",
        "cnn.add(layers.Activation('relu'));\n",
        "        \n",
        "cnn.add(layers.Dropout(0.2));\n",
        "        \n",
        "cnn.add(layers.Dense(len(flag_names), activation='softmax'));\n",
        "\n",
        "cnn.compile(loss=\"categorical_crossentropy\", optimizer='adam', metrics = ['accuracy'])\n"
      ],
      "execution_count": 0,
      "outputs": []
    },
    {
      "cell_type": "code",
      "metadata": {
        "id": "dLcYEmVJDUld",
        "colab_type": "code",
        "colab": {}
      },
      "source": [
        "history = cnn.fit_generator(train_gen, steps_per_epoch=10, epochs=12, validation_data=valid_gen, validation_steps=len(images));\n",
        "\n",
        "# Plot training & validation accuracy values\n",
        "plt.plot(history.history['accuracy'])\n",
        "plt.plot(history.history['val_accuracy'])\n",
        "plt.title('Model accuracy')\n",
        "plt.ylabel('Accuracy')\n",
        "plt.xlabel('Epoch')\n",
        "plt.legend(['Train', 'Validation'], loc='upper left')\n",
        "plt.show()\n",
        "\n",
        "# Plot training & validation loss values\n",
        "plt.plot(history.history['loss'])\n",
        "plt.plot(history.history['val_loss'])\n",
        "plt.title('Model loss')\n",
        "plt.ylabel('Loss')\n",
        "plt.xlabel('Epoch')\n",
        "plt.legend(['Train', 'Validation'], loc='upper left')\n",
        "plt.show()\n",
        "\n",
        "#cnn.save(\"flag_cnn.h5\")"
      ],
      "execution_count": 0,
      "outputs": []
    },
    {
      "cell_type": "code",
      "metadata": {
        "id": "tl5JclTuGGz1",
        "colab_type": "code",
        "colab": {}
      },
      "source": [
        "#!pip install tensorflowjs\n",
        "from google.colab import files\n",
        "cnn.save(\"keras.h5\")\n",
        "!mkdir model\n",
        "!tensorflowjs_converter --input_format keras keras.h5 model/\n",
        "!zip -r model.zip model \n",
        "\n",
        "files.download('model.zip')"
      ],
      "execution_count": 0,
      "outputs": []
    }
  ]
}